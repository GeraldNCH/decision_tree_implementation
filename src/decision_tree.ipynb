{
 "cells": [
  {
   "cell_type": "markdown",
   "metadata": {},
   "source": [
    "# **Decision Tree Implementation**"
   ]
  },
  {
   "cell_type": "markdown",
   "metadata": {},
   "source": [
    "**Escuela de Ingeniería en Computación**\n",
    "\n",
    "**IC6200 - Inteligencia Artificial - Tarea 4 - Árboles de Decisión**\n",
    "\n",
    "**Estudiantes:**\n",
    "\n",
    "Gerald Núñez Chavarría - 2021023226\n",
    "\n",
    "Sebastián Arroniz Rojas - 2021108521\n",
    "\n",
    "Sebastián Bermúdez Acuña - 2021110666\n",
    "\n",
    "**Profesor:**\n",
    "\n",
    "Kenneth Obando Rodríguez\n",
    "\n",
    "**Fecha de entrega:**\n",
    "\n",
    "01/04/2024"
   ]
  },
  {
   "cell_type": "markdown",
   "metadata": {},
   "source": [
    "## **1. Clase Nodo**\n",
    "\n",
    "Lo primero es crear una clase nodo que tenga los atributos necesarios para un árbol de decisión: feature, umbral, gini, sample_quantity, value, left and right. "
   ]
  }
 ],
 "metadata": {
  "language_info": {
   "name": "python"
  }
 },
 "nbformat": 4,
 "nbformat_minor": 2
}
